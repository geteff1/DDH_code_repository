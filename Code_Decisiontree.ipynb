{
 "cells": [
  {
   "cell_type": "code",
   "execution_count": 8,
   "id": "606d53df-59b1-4966-81a0-8f33fd957d60",
   "metadata": {},
   "outputs": [
    {
     "name": "stdout",
     "output_type": "stream",
     "text": [
      "Accuracy: 0.6164383561643836\n",
      "Precision: 0.7608695652173914\n",
      "Recall: 0.6730769230769231\n",
      "F1 Score: 0.7142857142857143\n",
      "Misclassification Rate: 0.3835616438356164\n",
      "AUC of ROC: 0.5746336996336996\n"
     ]
    }
   ],
   "source": [
    "##Build decision tree training model\n",
    "# Import Libraries\n",
    "import pandas as pd\n",
    "from sklearn.model_selection import train_test_split\n",
    "from sklearn.tree import DecisionTreeClassifier\n",
    "from sklearn.metrics import accuracy_score, precision_score, recall_score, f1_score, roc_auc_score\n",
    "\n",
    "# Load Data\n",
    "file_path = ' '\n",
    "data = pd.read_csv(file_path)\n",
    "\n",
    "# Preprocess Data\n",
    "features = ['Gender', 'Subluxation_percent', 'Femoral_neck_angle', 'Lateral_center_edge_angle', 'extrusion_index']\n",
    "target = 'Cluster'\n",
    "X = data[features]\n",
    "y = data[target]\n",
    "X_train, X_test, y_train, y_test = train_test_split(X, y, test_size=0.2, random_state=42)\n",
    "\n",
    "# Train Decision Tree Model\n",
    "model = DecisionTreeClassifier(random_state=42)\n",
    "model.fit(X_train, y_train)\n",
    "\n",
    "# Evaluate Model\n",
    "y_pred = model.predict(X_test)\n",
    "accuracy = accuracy_score(y_test, y_pred)\n",
    "precision = precision_score(y_test, y_pred)\n",
    "recall = recall_score(y_test, y_pred)\n",
    "f1 = f1_score(y_test, y_pred)\n",
    "misclassification_rate = 1 - accuracy\n",
    "y_prob = model.predict_proba(X_test)[:, 1]\n",
    "auc_roc = roc_auc_score(y_test, y_prob)\n",
    "\n",
    "# Print results\n",
    "print(\"Accuracy:\", accuracy)\n",
    "print(\"Precision:\", precision)\n",
    "print(\"Recall:\", recall)\n",
    "print(\"F1 Score:\", f1)\n",
    "print(\"Misclassification Rate:\", misclassification_rate)\n",
    "print(\"AUC of ROC:\", auc_roc)\n",
    "\n",
    "# Create CSV with Predicted Clusters\n",
    "test_results = X_test.copy()\n",
    "test_results['Actual_Cluster'] = y_test\n",
    "test_results['Predicted_Cluster'] = y_pred\n",
    "test_results['PatientID'] = data.loc[test_results.index, 'PatientID']\n",
    "output_path = ' '\n",
    "test_results.to_csv(output_path, index=False)\n"
   ]
  },
  {
   "cell_type": "code",
   "execution_count": 10,
   "id": "7e69043f-e443-40a0-a367-92ab2f508719",
   "metadata": {},
   "outputs": [
    {
     "name": "stdout",
     "output_type": "stream",
     "text": [
      "External Validation Metrics:\n",
      "Accuracy: 0.7142857142857143\n",
      "Precision: 0.8431372549019608\n",
      "Recall: 0.7288135593220338\n",
      "F1 Score: 0.7818181818181819\n",
      "Misclassification Rate: 0.2857142857142857\n",
      "AUC of ROC: 0.7044067796610167\n"
     ]
    }
   ],
   "source": [
    "# External validation\n",
    "# Load External Data\n",
    "external_file_path = ''\n",
    "external_data = pd.read_csv(external_file_path)\n",
    "\n",
    "# Preprocess External Data\n",
    "features = ['Gender', 'Subluxation_percent', 'Femoral_neck_angle', 'Lateral_center_edge_angle', 'extrusion_index']\n",
    "X_external = external_data[features]\n",
    "y_external = external_data['Groundtruth_Cluster']\n",
    "\n",
    "# Predict Clusters for External Data\n",
    "y_external_pred = model.predict(X_external)\n",
    "\n",
    "# Evaluate Model on External Data\n",
    "external_accuracy = accuracy_score(y_external, y_external_pred)\n",
    "external_precision = precision_score(y_external, y_external_pred)\n",
    "external_recall = recall_score(y_external, y_external_pred)\n",
    "external_f1 = f1_score(y_external, y_external_pred)\n",
    "external_misclassification_rate = 1 - external_accuracy\n",
    "external_y_prob = model.predict_proba(X_external)[:, 1]\n",
    "external_auc_roc = roc_auc_score(y_external, external_y_prob)\n",
    "\n",
    "#Print the results\n",
    "print(\"External Validation Metrics:\")\n",
    "print(\"Accuracy:\", external_accuracy)\n",
    "print(\"Precision:\", external_precision)\n",
    "print(\"Recall:\", external_recall)\n",
    "print(\"F1 Score:\", external_f1)\n",
    "print(\"Misclassification Rate:\", external_misclassification_rate)\n",
    "print(\"AUC of ROC:\", external_auc_roc)\n",
    "\n",
    "# Create CSV with Predicted Clusters for External Data\n",
    "external_results = external_data.copy()\n",
    "external_results['Predicted_Cluster'] = y_external_pred\n",
    "external_output_path = ''\n",
    "external_results.to_csv(external_output_path, index=False)"
   ]
  },
  {
   "cell_type": "code",
   "execution_count": 1,
   "id": "4beef7bb-6b57-43d0-981d-8c8e78a247a6",
   "metadata": {},
   "outputs": [
    {
     "data": {
      "text/plain": [
       "'C:/Work/AI_Sports_Medicine/Hip/DDH/Cluster/Prediction_decisiontree/internal_roc_data.csv'"
      ]
     },
     "execution_count": 1,
     "metadata": {},
     "output_type": "execute_result"
    }
   ],
   "source": [
    "#Internal roc data preparation\n",
    "\n",
    "import pandas as pd\n",
    "from sklearn.metrics import roc_curve\n",
    "\n",
    "# Read the file\n",
    "file_path = ' '\n",
    "data = pd.read_csv(file_path)\n",
    "\n",
    "# Assuming the ground truth cluster is in a column named 'ground_truth_cluster'\n",
    "# and the predicted cluster is in a column named 'predicted_cluster'\n",
    "ground_truth = data['ground_truth_cluster']\n",
    "predicted_cluster = data['predicted_cluster']\n",
    "\n",
    "# Calculate the ROC curve values\n",
    "fpr, tpr, _ = roc_curve(ground_truth, predicted_cluster)\n",
    "\n",
    "# Create a DataFrame with the FPR and TPR values\n",
    "roc_data = pd.DataFrame({'FPR': fpr, 'TPR': tpr})\n",
    "\n",
    "# Save the DataFrame to a CSV file\n",
    "output_file_path = ''\n",
    "roc_data.to_csv(output_file_path, index=False)\n",
    "\n",
    "output_file_path"
   ]
  },
  {
   "cell_type": "code",
   "execution_count": 2,
   "id": "6724860b-a345-4b80-8775-3b69c4ce6a2b",
   "metadata": {},
   "outputs": [
    {
     "data": {
      "text/plain": [
       "'C:/Work/AI_Sports_Medicine/Hip/DDH/Cluster/Prediction_decisiontree/external_roc_data.csv'"
      ]
     },
     "execution_count": 2,
     "metadata": {},
     "output_type": "execute_result"
    }
   ],
   "source": [
    "#External roc data preparation\n",
    "\n",
    "import pandas as pd\n",
    "from sklearn.metrics import roc_curve\n",
    "\n",
    "# Read the file\n",
    "file_path = ''\n",
    "data = pd.read_csv(file_path)\n",
    "\n",
    "# Assuming the ground truth cluster is in a column named 'ground_truth_cluster'\n",
    "# and the predicted cluster is in a column named 'predicted_cluster'\n",
    "ground_truth = data['ground_truth_cluster']\n",
    "predicted_cluster = data['predicted_cluster']\n",
    "\n",
    "# Calculate the ROC curve values\n",
    "fpr, tpr, _ = roc_curve(ground_truth, predicted_cluster)\n",
    "\n",
    "# Create a DataFrame with the FPR and TPR values\n",
    "roc_data = pd.DataFrame({'FPR': fpr, 'TPR': tpr})\n",
    "\n",
    "# Save the DataFrame to a CSV file\n",
    "output_file_path = ''\n",
    "roc_data.to_csv(output_file_path, index=False)\n",
    "\n",
    "output_file_path"
   ]
  },
  {
   "cell_type": "code",
   "execution_count": null,
   "id": "fdc91dc4-4cb1-4ec3-af85-c31c4abe06dc",
   "metadata": {},
   "outputs": [],
   "source": []
  }
 ],
 "metadata": {
  "kernelspec": {
   "display_name": "Python 3 (ipykernel)",
   "language": "python",
   "name": "python3"
  },
  "language_info": {
   "codemirror_mode": {
    "name": "ipython",
    "version": 3
   },
   "file_extension": ".py",
   "mimetype": "text/x-python",
   "name": "python",
   "nbconvert_exporter": "python",
   "pygments_lexer": "ipython3",
   "version": "3.11.5"
  }
 },
 "nbformat": 4,
 "nbformat_minor": 5
}
