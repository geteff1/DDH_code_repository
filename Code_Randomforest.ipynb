{
 "cells": [
  {
   "cell_type": "code",
   "execution_count": 1,
   "id": "8c6bbd12-4af2-438d-ac56-bf49aa0a9871",
   "metadata": {},
   "outputs": [
    {
     "name": "stdout",
     "output_type": "stream",
     "text": [
      "Accuracy: 0.6712328767123288\n",
      "              precision    recall  f1-score   support\n",
      "\n",
      "           0       0.43      0.43      0.43        21\n",
      "           1       0.77      0.77      0.77        52\n",
      "\n",
      "    accuracy                           0.67        73\n",
      "   macro avg       0.60      0.60      0.60        73\n",
      "weighted avg       0.67      0.67      0.67        73\n",
      "\n"
     ]
    }
   ],
   "source": [
    "import pandas as pd\n",
    "from sklearn.model_selection import train_test_split\n",
    "from sklearn.preprocessing import StandardScaler\n",
    "from sklearn.ensemble import RandomForestClassifier\n",
    "from sklearn.metrics import accuracy_score, classification_report\n",
    "\n",
    "# Load the data\n",
    "file_path = ' '#File path here\n",
    "data = pd.read_csv(file_path)\n",
    "\n",
    "# Select features and target variable\n",
    "features = ['Gender', 'Subluxation_percent', 'Femoral_neck_angle', 'Lateral_center_edge_angle', 'extrusion_index']\n",
    "X = data[features]\n",
    "y = data['Cluster']\n",
    "\n",
    "# Convert Gender to numerical if it's categorical\n",
    "if X['Gender'].dtype == 'object':\n",
    "    X['Gender'] = X['Gender'].astype('category').cat.codes\n",
    "\n",
    "# Split the data into training and testing sets\n",
    "X_train, X_test, y_train, y_test = train_test_split(X, y, test_size=0.2, random_state=42)\n",
    "\n",
    "# Scale the features\n",
    "scaler = StandardScaler()\n",
    "X_train_scaled = scaler.fit_transform(X_train)\n",
    "X_test_scaled = scaler.transform(X_test)\n",
    "\n",
    "# Train the Random Forest Classifier\n",
    "model = RandomForestClassifier(random_state=42)\n",
    "model.fit(X_train_scaled, y_train)\n",
    "\n",
    "# Predicting the classes and probabilities\n",
    "y_pred = model.predict(X_test_scaled)\n",
    "y_prob = model.predict_proba(X_test_scaled)[:, 1]\n",
    "\n",
    "# Evaluate the model\n",
    "y_pred = model.predict(X_test_scaled)\n",
    "accuracy = accuracy_score(y_test, y_pred)\n",
    "print(\"Accuracy:\", accuracy)\n",
    "print(classification_report(y_test, y_pred))\n"
   ]
  },
  {
   "cell_type": "code",
   "execution_count": 2,
   "id": "3df6fece-a937-498b-996f-b649472b601c",
   "metadata": {},
   "outputs": [
    {
     "name": "stdout",
     "output_type": "stream",
     "text": [
      "Accuracy: 0.6712328767123288\n",
      "Precision: 0.6712328767123288\n",
      "Recall: 0.6712328767123288\n",
      "F1-Score: 0.6712328767123288\n",
      "Misclassification Rate: 0.3287671232876712\n",
      "AUC of ROC: 0.673992673992674\n"
     ]
    }
   ],
   "source": [
    "# Importing necessary libraries\n",
    "import pandas as pd\n",
    "from sklearn.model_selection import train_test_split\n",
    "from sklearn.preprocessing import StandardScaler\n",
    "from sklearn.ensemble import RandomForestClassifier\n",
    "from sklearn.metrics import accuracy_score, precision_score, recall_score, f1_score, roc_auc_score\n",
    "\n",
    "# Calculating accuracy, precision, recall, and F1-score\n",
    "accuracy = accuracy_score(y_test, y_pred)\n",
    "precision = precision_score(y_test, y_pred, average='weighted')\n",
    "recall = recall_score(y_test, y_pred, average='weighted')\n",
    "f1 = f1_score(y_test, y_pred, average='weighted')\n",
    "\n",
    "# Calculating misclassification rate\n",
    "misclassification_rate = 1 - accuracy\n",
    "\n",
    "# Calculating AUC of ROC\n",
    "auc_roc = roc_auc_score(y_test, y_prob)\n",
    "\n",
    "# Printing the results\n",
    "print(\"Accuracy:\", accuracy)\n",
    "print(\"Precision:\", precision)\n",
    "print(\"Recall:\", recall)\n",
    "print(\"F1-Score:\", f1)\n",
    "print(\"Misclassification Rate:\", misclassification_rate)\n",
    "print(\"AUC of ROC:\", auc_roc)"
   ]
  },
  {
   "cell_type": "code",
   "execution_count": 3,
   "id": "a063b74a-7c04-4f45-ac86-29c8b6f59e24",
   "metadata": {},
   "outputs": [
    {
     "name": "stdout",
     "output_type": "stream",
     "text": [
      "File saved to C:/Work/AI_Sports_Medicine/Hip/DDH/Cluster/Prediction_Random_forest_model/internal_data_with_predicted_clusters.csv\n"
     ]
    }
   ],
   "source": [
    "##Saving the csv file\n",
    "# Adding the predictions to the testing set\n",
    "X_test_with_predictions = X_test.copy()\n",
    "X_test_with_predictions['Predicted_Cluster'] = y_pred\n",
    "\n",
    "# Concatenating the original training data with the testing data that includes predictions\n",
    "final_data_with_predictions = pd.concat([X_train, X_test_with_predictions])\n",
    "\n",
    "# Merging with other columns from the original data if needed (e.g., other columns not used in the model)\n",
    "final_data_with_predictions = data.merge(final_data_with_predictions, how='left', left_index=True, right_index=True)\n",
    "\n",
    "# Adding the ground truth cluster labels\n",
    "final_data_with_predictions['ground_truth_cluster'] = data['Cluster']\n",
    "\n",
    "# Saving to a new CSV file\n",
    "output_file_path = ' '#File path here\n",
    "final_data_with_predictions.to_csv(output_file_path, index=False)\n",
    "\n",
    "print(f\"File saved to {output_file_path}\")"
   ]
  },
  {
   "cell_type": "code",
   "execution_count": 4,
   "id": "e45e9eb8-1053-4e90-8853-81a403619309",
   "metadata": {},
   "outputs": [
    {
     "name": "stdout",
     "output_type": "stream",
     "text": [
      "External Validation:\n",
      "Accuracy: 0.7380952380952381\n",
      "Precision: 0.7445001392369813\n",
      "Recall: 0.7380952380952381\n",
      "F1-Score: 0.7408740684602754\n",
      "Misclassification Rate: 0.26190476190476186\n",
      "AUC of ROC: 0.7515254237288136\n",
      "File saved to C:/Work/AI_Sports_Medicine/Hip/DDH/Cluster/Prediction_Random_forest_model/external_data_with_predicted_clusters.csv\n"
     ]
    }
   ],
   "source": [
    "# Read the external validation file\n",
    "external_file_path = ' '#File path here\n",
    "external_data = pd.read_csv(external_file_path)\n",
    "\n",
    "# Selecting features and target variable\n",
    "external_X = external_data[features]\n",
    "external_y = external_data['Groundtruth_Cluster']\n",
    "\n",
    "# Preprocessing the external data (scaling)\n",
    "external_X_scaled = scaler.transform(external_X)\n",
    "\n",
    "# Predicting the clusters and probabilities for external data\n",
    "external_y_pred = model.predict(external_X_scaled)\n",
    "external_y_prob = model.predict_proba(external_X_scaled)[:, 1]\n",
    "\n",
    "# Calculating accuracy, precision, recall, and F1-score for external validation\n",
    "external_accuracy = accuracy_score(external_y, external_y_pred)\n",
    "external_precision = precision_score(external_y, external_y_pred, average='weighted')\n",
    "external_recall = recall_score(external_y, external_y_pred, average='weighted')\n",
    "external_f1 = f1_score(external_y, external_y_pred, average='weighted')\n",
    "\n",
    "# Calculating misclassification rate for external validation\n",
    "external_misclassification_rate = 1 - external_accuracy\n",
    "\n",
    "# Calculating AUC of ROC for external validation\n",
    "external_auc_roc = roc_auc_score(external_y, external_y_prob)\n",
    "\n",
    "# Printing the results\n",
    "print(\"External Validation:\")\n",
    "print(\"Accuracy:\", external_accuracy)\n",
    "print(\"Precision:\", external_precision)\n",
    "print(\"Recall:\", external_recall)\n",
    "print(\"F1-Score:\", external_f1)\n",
    "print(\"Misclassification Rate:\", external_misclassification_rate)\n",
    "print(\"AUC of ROC:\", external_auc_roc)\n",
    "\n",
    "# Creating a new CSV file with predicted clusters for external data\n",
    "external_data_with_predictions = external_data.copy()\n",
    "external_data_with_predictions['Predicted_Cluster'] = external_y_pred\n",
    "output_file_path_external = 'C:/Work/AI_Sports_Medicine/Hip/DDH/Cluster/Prediction_Random_forest_model/external_data_with_predicted_clusters.csv'\n",
    "external_data_with_predictions.to_csv(output_file_path_external, index=False)\n",
    "\n",
    "print(f\"File saved to {output_file_path_external}\")\n"
   ]
  },
  {
   "cell_type": "code",
   "execution_count": null,
   "id": "7c330520-0037-4575-8d27-0e7c7202f6f0",
   "metadata": {},
   "outputs": [],
   "source": []
  }
 ],
 "metadata": {
  "kernelspec": {
   "display_name": "Python 3 (ipykernel)",
   "language": "python",
   "name": "python3"
  },
  "language_info": {
   "codemirror_mode": {
    "name": "ipython",
    "version": 3
   },
   "file_extension": ".py",
   "mimetype": "text/x-python",
   "name": "python",
   "nbconvert_exporter": "python",
   "pygments_lexer": "ipython3",
   "version": "3.11.5"
  }
 },
 "nbformat": 4,
 "nbformat_minor": 5
}
