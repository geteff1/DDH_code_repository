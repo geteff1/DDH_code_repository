{
 "cells": [
  {
   "cell_type": "code",
   "execution_count": 1,
   "id": "3d4f5eda-056f-4e4d-9155-b63bed394ff8",
   "metadata": {},
   "outputs": [
    {
     "name": "stdout",
     "output_type": "stream",
     "text": [
      "Accuracy: 0.7123287671232876\n",
      "Precision: 0.7818181818181819\n",
      "F1 Score: 0.8037383177570092\n",
      "Recall: 0.8269230769230769\n",
      "Misclassification Rate: 0.28767123287671237\n",
      "AUC of ROC: 0.739010989010989\n"
     ]
    }
   ],
   "source": [
    "# Importing necessary libraries\n",
    "import pandas as pd\n",
    "from sklearn.model_selection import train_test_split\n",
    "from sklearn.linear_model import LogisticRegression\n",
    "from sklearn.metrics import accuracy_score, precision_score, f1_score, recall_score, roc_auc_score\n",
    "\n",
    "# Loading the data\n",
    "file_path = \"\" #File path here\n",
    "data = pd.read_csv(file_path)\n",
    "\n",
    "# Selecting the required features\n",
    "features = ['Gender', 'Subluxation_percent', 'Femoral_neck_angle', 'Lateral_center_edge_angle', 'extrusion_index']\n",
    "X = data[features]\n",
    "y = data['Cluster']\n",
    "\n",
    "# Splitting the data into training and testing sets (80:20 ratio)\n",
    "X_train, X_test, y_train, y_test = train_test_split(X, y, test_size=0.2, random_state=42)\n",
    "\n",
    "# Creating a Logistic Regression model\n",
    "model = LogisticRegression(random_state=42)\n",
    "\n",
    "# Training the model using the training data\n",
    "model.fit(X_train, y_train)\n",
    "\n",
    "# Making predictions on the testing data\n",
    "y_pred = model.predict(X_test)\n",
    "\n",
    "# Calculating Evaluation Metrics\n",
    "accuracy = accuracy_score(y_test, y_pred)\n",
    "precision = precision_score(y_test, y_pred)\n",
    "f1 = f1_score(y_test, y_pred)\n",
    "recall = recall_score(y_test, y_pred)\n",
    "misclassification_rate = 1 - accuracy\n",
    "y_prob = model.predict_proba(X_test)[:, 1] # Getting the probability estimates of the positive class\n",
    "auc_roc = roc_auc_score(y_test, y_prob)\n",
    "\n",
    "# Printing the results\n",
    "print(\"Accuracy:\", accuracy)\n",
    "print(\"Precision:\", precision)\n",
    "print(\"F1 Score:\", f1)\n",
    "print(\"Recall:\", recall)\n",
    "print(\"Misclassification Rate:\", misclassification_rate)\n",
    "print(\"AUC of ROC:\", auc_roc)\n"
   ]
  },
  {
   "cell_type": "code",
   "execution_count": 2,
   "id": "5ad66923-afda-4791-bdd6-7c5d88ed51ba",
   "metadata": {},
   "outputs": [
    {
     "name": "stdout",
     "output_type": "stream",
     "text": [
      "CSV file with predicted clusters has been created at: C:/Work/AI_Sports_Medicine/Hip/DDH/Cluster/Prediction_logistic_regression/internal_predicted_clusters.csv\n"
     ]
    }
   ],
   "source": [
    "# Creating a DataFrame for the testing data\n",
    "test_data_with_predictions = X_test.copy()\n",
    "\n",
    "# Adding the actual and predicted cluster information\n",
    "test_data_with_predictions['Actual_Cluster'] = y_test\n",
    "test_data_with_predictions['Predicted_Cluster'] = y_pred\n",
    "\n",
    "# Defining the path for the new CSV file\n",
    "output_file_path = \"\" #File path here\n",
    "\n",
    "# Exporting the DataFrame to a CSV file\n",
    "test_data_with_predictions.to_csv(output_file_path, index=False)\n",
    "\n",
    "# Printing a message indicating the successful creation of the CSV file\n",
    "print(\"CSV file with predicted clusters has been created at:\", output_file_path)\n"
   ]
  },
  {
   "cell_type": "code",
   "execution_count": 5,
   "id": "230d1da1-17c7-49fe-8410-cc7b821c4d4a",
   "metadata": {},
   "outputs": [
    {
     "name": "stdout",
     "output_type": "stream",
     "text": [
      "External Validation Results:\n",
      "Accuracy: 0.7380952380952381\n",
      "Precision: 0.8032786885245902\n",
      "F1 Score: 0.8166666666666667\n",
      "Recall: 0.8305084745762712\n",
      "Misclassification Rate: 0.26190476190476186\n",
      "AUC of ROC: 0.7505084745762712\n",
      "CSV file with predicted clusters for external data has been created at: C:/Work/AI_Sports_Medicine/Hip/DDH/Cluster/Prediction_logistic_regression/external_predicted_clusters_external.csv\n"
     ]
    }
   ],
   "source": [
    "# Path to the external dataset\n",
    "external_file_path = \" \"#File path here\n",
    "\n",
    "# Loading the external data\n",
    "external_data = pd.read_csv(external_file_path)\n",
    "\n",
    "# Selecting the required features and ground truth clusters for validation\n",
    "X_external = external_data[features]\n",
    "y_external_groundtruth = external_data['Groundtruth_Cluster']\n",
    "\n",
    "# Making predictions on the external data\n",
    "y_external_pred = model.predict(X_external)\n",
    "\n",
    "# Calculating Evaluation Metrics for External Validation\n",
    "accuracy_external = accuracy_score(y_external_groundtruth, y_external_pred)\n",
    "precision_external = precision_score(y_external_groundtruth, y_external_pred)\n",
    "f1_external = f1_score(y_external_groundtruth, y_external_pred)\n",
    "recall_external = recall_score(y_external_groundtruth, y_external_pred)\n",
    "misclassification_rate_external = 1 - accuracy_external\n",
    "y_external_prob = model.predict_proba(X_external)[:, 1] # Probability estimates of the positive class\n",
    "auc_roc_external = roc_auc_score(y_external_groundtruth, y_external_prob)\n",
    "\n",
    "# Printing the results\n",
    "print(\"External Validation Results:\")\n",
    "print(\"Accuracy:\", accuracy_external)\n",
    "print(\"Precision:\", precision_external)\n",
    "print(\"F1 Score:\", f1_external)\n",
    "print(\"Recall:\", recall_external)\n",
    "print(\"Misclassification Rate:\", misclassification_rate_external)\n",
    "print(\"AUC of ROC:\", auc_roc_external)\n",
    "\n",
    "# Creating a DataFrame for the external data with predictions\n",
    "external_data_with_predictions = external_data.copy()\n",
    "external_data_with_predictions['Predicted_Cluster'] = y_external_pred\n",
    "\n",
    "# Defining the path for the new CSV file for external data\n",
    "external_output_file_path = \" \"#File path here\n",
    "\n",
    "# Exporting the DataFrame to a CSV file\n",
    "external_data_with_predictions.to_csv(external_output_file_path, index=False)\n",
    "\n",
    "# Message indicating the successful creation of the CSV file\n",
    "print(\"CSV file with predicted clusters for external data has been created at:\", external_output_file_path)\n"
   ]
  },
  {
   "cell_type": "code",
   "execution_count": 6,
   "id": "9e836c50-bf58-466b-b04c-a0025b59754c",
   "metadata": {},
   "outputs": [
    {
     "name": "stdout",
     "output_type": "stream",
     "text": [
      "CSV file with ROC data has been created at: C:/Work/AI_Sports_Medicine/Hip/DDH/Cluster/Prediction_logistic_regression/logistic_roc_data.csv\n"
     ]
    }
   ],
   "source": [
    "##ROC curve\n",
    "# Importing the necessary libraries\n",
    "from sklearn.metrics import roc_curve\n",
    "import pandas as pd\n",
    "\n",
    "# Calculating the False Positive Rate (FPR), True Positive Rate (TPR), and thresholds\n",
    "fpr, tpr, thresholds = roc_curve(y_external_groundtruth, y_external_prob)\n",
    "\n",
    "# Creating a DataFrame to hold the FPR, TPR, and thresholds\n",
    "roc_data = pd.DataFrame({\n",
    "    \"Threshold\": thresholds,\n",
    "    \"False_Positive_Rate\": fpr,\n",
    "    \"True_Positive_Rate\": tpr\n",
    "})\n",
    "\n",
    "# Defining the path for the ROC data CSV file\n",
    "roc_data_file_path = \"C:/Work/AI_Sports_Medicine/Hip/DDH/Cluster/Prediction_logistic_regression/logistic_roc_data.csv\"\n",
    "\n",
    "# Exporting the ROC data to a CSV file\n",
    "roc_data.to_csv(roc_data_file_path, index=False)\n",
    "\n",
    "# Printing a message indicating the successful creation of the CSV file\n",
    "print(\"CSV file with ROC data has been created at:\", roc_data_file_path)\n"
   ]
  },
  {
   "cell_type": "code",
   "execution_count": null,
   "id": "1e1904a2-7cd5-4b33-900e-dbce8d99f695",
   "metadata": {},
   "outputs": [],
   "source": []
  }
 ],
 "metadata": {
  "kernelspec": {
   "display_name": "Python 3 (ipykernel)",
   "language": "python",
   "name": "python3"
  },
  "language_info": {
   "codemirror_mode": {
    "name": "ipython",
    "version": 3
   },
   "file_extension": ".py",
   "mimetype": "text/x-python",
   "name": "python",
   "nbconvert_exporter": "python",
   "pygments_lexer": "ipython3",
   "version": "3.11.5"
  }
 },
 "nbformat": 4,
 "nbformat_minor": 5
}
