{
 "cells": [
  {
   "cell_type": "code",
   "execution_count": 5,
   "id": "aab81d47-65e9-40a1-845d-62b661f8a221",
   "metadata": {},
   "outputs": [
    {
     "name": "stderr",
     "output_type": "stream",
     "text": [
      "C:\\Users\\36819\\AppData\\Local\\Temp\\ipykernel_44224\\3559580778.py:21: SettingWithCopyWarning: \n",
      "A value is trying to be set on a copy of a slice from a DataFrame\n",
      "\n",
      "See the caveats in the documentation: https://pandas.pydata.org/pandas-docs/stable/user_guide/indexing.html#returning-a-view-versus-a-copy\n",
      "  X['Subluxation_percent'].fillna(X['Subluxation_percent'].mean(), inplace=True)\n",
      "C:\\Users\\36819\\AppData\\Local\\Temp\\ipykernel_44224\\3559580778.py:22: SettingWithCopyWarning: \n",
      "A value is trying to be set on a copy of a slice from a DataFrame\n",
      "\n",
      "See the caveats in the documentation: https://pandas.pydata.org/pandas-docs/stable/user_guide/indexing.html#returning-a-view-versus-a-copy\n",
      "  X['Femoral_neck_angle'].fillna(X['Femoral_neck_angle'].mean(), inplace=True)\n",
      "C:\\Users\\36819\\AppData\\Local\\Temp\\ipykernel_44224\\3559580778.py:23: SettingWithCopyWarning: \n",
      "A value is trying to be set on a copy of a slice from a DataFrame\n",
      "\n",
      "See the caveats in the documentation: https://pandas.pydata.org/pandas-docs/stable/user_guide/indexing.html#returning-a-view-versus-a-copy\n",
      "  X['Lateral_center_edge_angle'].fillna(X['Lateral_center_edge_angle'].mean(), inplace=True)\n",
      "C:\\Users\\36819\\AppData\\Local\\Temp\\ipykernel_44224\\3559580778.py:24: SettingWithCopyWarning: \n",
      "A value is trying to be set on a copy of a slice from a DataFrame\n",
      "\n",
      "See the caveats in the documentation: https://pandas.pydata.org/pandas-docs/stable/user_guide/indexing.html#returning-a-view-versus-a-copy\n",
      "  X['extrusion_index'].fillna(X['extrusion_index'].mean(), inplace=True)\n"
     ]
    },
    {
     "name": "stdout",
     "output_type": "stream",
     "text": [
      "Accuracy: 58.90%\n",
      "              precision    recall  f1-score   support\n",
      "\n",
      "           0       0.33      0.43      0.38        21\n",
      "           1       0.74      0.65      0.69        52\n",
      "\n",
      "    accuracy                           0.59        73\n",
      "   macro avg       0.54      0.54      0.53        73\n",
      "weighted avg       0.62      0.59      0.60        73\n",
      "\n",
      "Number of iterations to reach convergence: 1883\n"
     ]
    },
    {
     "data": {
      "text/plain": [
       "['cluster_model.joblib']"
      ]
     },
     "execution_count": 5,
     "metadata": {},
     "output_type": "execute_result"
    }
   ],
   "source": [
    "# Import Libraries\n",
    "import pandas as pd\n",
    "import numpy as np\n",
    "from sklearn.model_selection import train_test_split\n",
    "from sklearn.preprocessing import StandardScaler\n",
    "from sklearn.neural_network import MLPClassifier\n",
    "from sklearn.metrics import accuracy_score, classification_report\n",
    "from joblib import dump\n",
    "\n",
    "# Load Data\n",
    "file_path = ' ' #File path here\n",
    "data = pd.read_csv(file_path)\n",
    "\n",
    "# Select Features and Target\n",
    "features = ['Gender', 'Subluxation_percent', 'Femoral_neck_angle', 'Lateral_center_edge_angle', 'extrusion_index']\n",
    "target = 'Cluster' # Replace with the actual column name for the cluster\n",
    "X = data[features]\n",
    "y = data[target]\n",
    "\n",
    "# Preprocess Data\n",
    "X['Subluxation_percent'].fillna(X['Subluxation_percent'].mean(), inplace=True)\n",
    "X['Femoral_neck_angle'].fillna(X['Femoral_neck_angle'].mean(), inplace=True)\n",
    "X['Lateral_center_edge_angle'].fillna(X['Lateral_center_edge_angle'].mean(), inplace=True)\n",
    "X['extrusion_index'].fillna(X['extrusion_index'].mean(), inplace=True)\n",
    "if X['Gender'].dtype == 'object':\n",
    "    X['Gender'] = X['Gender'].astype('category').cat.codes\n",
    "scaler = StandardScaler()\n",
    "X_scaled = scaler.fit_transform(X)\n",
    "\n",
    "# Split Data\n",
    "X_train, X_test, y_train, y_test = train_test_split(X_scaled, y, test_size=0.2, random_state=42)\n",
    "\n",
    "# Build and Train ANN\n",
    "mlp = MLPClassifier(hidden_layer_sizes=(10, 10), max_iter=2000, random_state=42) # Increase max_iter\n",
    "mlp.fit(X_train, y_train)\n",
    "\n",
    "# Evaluate Model\n",
    "y_pred = mlp.predict(X_test)\n",
    "accuracy = accuracy_score(y_test, y_pred)\n",
    "print(f\"Accuracy: {accuracy * 100:.2f}%\")\n",
    "print(classification_report(y_test, y_pred))\n",
    "\n",
    "# Display Number of Iterations\n",
    "print(f\"Number of iterations to reach convergence: {mlp.n_iter_}\")\n",
    "\n",
    "# Save Model (Optional)\n",
    "dump(mlp, 'cluster_model.joblib')\n"
   ]
  },
  {
   "cell_type": "code",
   "execution_count": 6,
   "id": "c1d07011-f602-4411-a224-4938ca3ce7f9",
   "metadata": {},
   "outputs": [
    {
     "name": "stdout",
     "output_type": "stream",
     "text": [
      "Accuracy: 58.90%\n",
      "Precision: 73.91%\n",
      "Recall: 65.38%\n",
      "F1-Score: 69.39%\n",
      "Misclassification Rate: 41.10%\n",
      "AUC of ROC: 56.32%\n"
     ]
    }
   ],
   "source": [
    "#calculate metrics\n",
    "from sklearn.metrics import precision_score, recall_score, f1_score, roc_auc_score, confusion_matrix\n",
    "\n",
    "# Predict Class Labels\n",
    "y_pred = mlp.predict(X_test)\n",
    "\n",
    "# Calculate Accuracy\n",
    "accuracy = accuracy_score(y_test, y_pred)\n",
    "\n",
    "# Calculate Precision\n",
    "precision = precision_score(y_test, y_pred)\n",
    "\n",
    "# Calculate Recall\n",
    "recall = recall_score(y_test, y_pred)\n",
    "\n",
    "# Calculate F1-Score\n",
    "f1 = f1_score(y_test, y_pred)\n",
    "\n",
    "# Calculate Misclassification Rate\n",
    "misclassification_rate = 1 - accuracy\n",
    "\n",
    "# Calculate AUC-ROC\n",
    "# Note: You'll need to use predict_proba to get the probability estimates for the positive class\n",
    "y_prob = mlp.predict_proba(X_test)[:, 1]\n",
    "auc_roc = roc_auc_score(y_test, y_prob)\n",
    "\n",
    "# Print Results\n",
    "print(f\"Accuracy: {accuracy * 100:.2f}%\")\n",
    "print(f\"Precision: {precision * 100:.2f}%\")\n",
    "print(f\"Recall: {recall * 100:.2f}%\")\n",
    "print(f\"F1-Score: {f1 * 100:.2f}%\")\n",
    "print(f\"Misclassification Rate: {misclassification_rate * 100:.2f}%\")\n",
    "print(f\"AUC of ROC: {auc_roc * 100:.2f}%\")\n"
   ]
  },
  {
   "cell_type": "code",
   "execution_count": 7,
   "id": "93c0ad8a-e241-4bc4-a6cc-76e04879932f",
   "metadata": {},
   "outputs": [
    {
     "name": "stdout",
     "output_type": "stream",
     "text": [
      "File saved to C:/Work/AI_Sports_Medicine/Hip/DDH/Cluster/Prediction_ANN/internal_predicted_clusters.csv\n"
     ]
    }
   ],
   "source": [
    "##CSV of internal dataset\n",
    "# Create a new DataFrame with the original data\n",
    "new_data = data.copy()\n",
    "\n",
    "# Add the predicted cluster column\n",
    "new_data['predicted_cluster'] = mlp.predict(scaler.transform(X))\n",
    "\n",
    "# Save the new DataFrame as a CSV file\n",
    "output_path = ''\n",
    "new_data.to_csv(output_path, index=False)\n",
    "\n",
    "print(f\"File saved to {output_path}\")\n"
   ]
  },
  {
   "cell_type": "code",
   "execution_count": 8,
   "id": "87e3670f-9246-4ef0-9e4c-b6a8d5dca0d1",
   "metadata": {},
   "outputs": [
    {
     "name": "stdout",
     "output_type": "stream",
     "text": [
      "External Accuracy: 71.43%\n",
      "External Precision: 78.69%\n",
      "External Recall: 81.36%\n",
      "External F1-Score: 80.00%\n",
      "External Misclassification Rate: 28.57%\n",
      "External AUC of ROC: 70.92%\n",
      "External file saved to C:/Work/AI_Sports_Medicine/Hip/DDH/Cluster/Prediction_ANN/external_predicted_clusters.csv\n"
     ]
    },
    {
     "name": "stderr",
     "output_type": "stream",
     "text": [
      "C:\\Users\\36819\\AppData\\Local\\Temp\\ipykernel_44224\\4116426935.py:8: SettingWithCopyWarning: \n",
      "A value is trying to be set on a copy of a slice from a DataFrame\n",
      "\n",
      "See the caveats in the documentation: https://pandas.pydata.org/pandas-docs/stable/user_guide/indexing.html#returning-a-view-versus-a-copy\n",
      "  external_X['Subluxation_percent'].fillna(external_X['Subluxation_percent'].mean(), inplace=True)\n",
      "C:\\Users\\36819\\AppData\\Local\\Temp\\ipykernel_44224\\4116426935.py:9: SettingWithCopyWarning: \n",
      "A value is trying to be set on a copy of a slice from a DataFrame\n",
      "\n",
      "See the caveats in the documentation: https://pandas.pydata.org/pandas-docs/stable/user_guide/indexing.html#returning-a-view-versus-a-copy\n",
      "  external_X['Femoral_neck_angle'].fillna(external_X['Femoral_neck_angle'].mean(), inplace=True)\n",
      "C:\\Users\\36819\\AppData\\Local\\Temp\\ipykernel_44224\\4116426935.py:10: SettingWithCopyWarning: \n",
      "A value is trying to be set on a copy of a slice from a DataFrame\n",
      "\n",
      "See the caveats in the documentation: https://pandas.pydata.org/pandas-docs/stable/user_guide/indexing.html#returning-a-view-versus-a-copy\n",
      "  external_X['Lateral_center_edge_angle'].fillna(external_X['Lateral_center_edge_angle'].mean(), inplace=True)\n",
      "C:\\Users\\36819\\AppData\\Local\\Temp\\ipykernel_44224\\4116426935.py:11: SettingWithCopyWarning: \n",
      "A value is trying to be set on a copy of a slice from a DataFrame\n",
      "\n",
      "See the caveats in the documentation: https://pandas.pydata.org/pandas-docs/stable/user_guide/indexing.html#returning-a-view-versus-a-copy\n",
      "  external_X['extrusion_index'].fillna(external_X['extrusion_index'].mean(), inplace=True)\n"
     ]
    }
   ],
   "source": [
    "##External validatoin\n",
    "# Read the external dataset\n",
    "external_file_path = '' #File path here\n",
    "external_data = pd.read_csv(external_file_path)\n",
    "\n",
    "# Select features and preprocess\n",
    "external_X = external_data[features]\n",
    "external_X['Subluxation_percent'].fillna(external_X['Subluxation_percent'].mean(), inplace=True)\n",
    "external_X['Femoral_neck_angle'].fillna(external_X['Femoral_neck_angle'].mean(), inplace=True)\n",
    "external_X['Lateral_center_edge_angle'].fillna(external_X['Lateral_center_edge_angle'].mean(), inplace=True)\n",
    "external_X['extrusion_index'].fillna(external_X['extrusion_index'].mean(), inplace=True)\n",
    "if external_X['Gender'].dtype == 'object':\n",
    "    external_X['Gender'] = external_X['Gender'].astype('category').cat.codes\n",
    "\n",
    "# Scale the features\n",
    "external_X_scaled = scaler.transform(external_X)\n",
    "\n",
    "# Groundtruth cluster label (updated column name)\n",
    "external_y = external_data['Groundtruth_Cluster']\n",
    "\n",
    "# Predict clusters for the external dataset\n",
    "external_y_pred = mlp.predict(external_X_scaled)\n",
    "\n",
    "# Calculate metrics\n",
    "external_accuracy = accuracy_score(external_y, external_y_pred)\n",
    "external_precision = precision_score(external_y, external_y_pred)\n",
    "external_recall = recall_score(external_y, external_y_pred)\n",
    "external_f1 = f1_score(external_y, external_y_pred)\n",
    "external_misclassification_rate = 1 - external_accuracy\n",
    "external_y_prob = mlp.predict_proba(external_X_scaled)[:, 1]\n",
    "external_auc_roc = roc_auc_score(external_y, external_y_prob)\n",
    "\n",
    "# Print results\n",
    "print(f\"External Accuracy: {external_accuracy * 100:.2f}%\")\n",
    "print(f\"External Precision: {external_precision * 100:.2f}%\")\n",
    "print(f\"External Recall: {external_recall * 100:.2f}%\")\n",
    "print(f\"External F1-Score: {external_f1 * 100:.2f}%\")\n",
    "print(f\"External Misclassification Rate: {external_misclassification_rate * 100:.2f}%\")\n",
    "print(f\"External AUC of ROC: {external_auc_roc * 100:.2f}%\")\n",
    "\n",
    "# Create a new DataFrame with the external data\n",
    "external_data_with_prediction = external_data.copy()\n",
    "\n",
    "# Adding the ground truth cluster labels (y_external) to the external predicted data DataFrame\n",
    "external_data_with_prediction['ground_truth_cluster'] = external_data['Groundtruth_Cluster']\n",
    "\n",
    "# Add the predicted cluster column\n",
    "external_data_with_prediction['predicted_cluster'] = external_y_pred\n",
    "\n",
    "# Save the new DataFrame as a CSV file\n",
    "external_output_path = ' '\n",
    "external_data_with_prediction.to_csv(external_output_path, index=False)\n",
    "\n",
    "print(f\"External file saved to {external_output_path}\")\n",
    "\n"
   ]
  },
  {
   "cell_type": "code",
   "execution_count": null,
   "id": "561e6941-5395-47cb-9781-e572633afffb",
   "metadata": {},
   "outputs": [],
   "source": []
  }
 ],
 "metadata": {
  "kernelspec": {
   "display_name": "Python 3 (ipykernel)",
   "language": "python",
   "name": "python3"
  },
  "language_info": {
   "codemirror_mode": {
    "name": "ipython",
    "version": 3
   },
   "file_extension": ".py",
   "mimetype": "text/x-python",
   "name": "python",
   "nbconvert_exporter": "python",
   "pygments_lexer": "ipython3",
   "version": "3.11.5"
  }
 },
 "nbformat": 4,
 "nbformat_minor": 5
}
