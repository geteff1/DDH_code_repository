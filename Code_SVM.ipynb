{
 "cells": [
  {
   "cell_type": "code",
   "execution_count": 1,
   "id": "8f5d393d-4582-4721-ac6d-d88186a2c126",
   "metadata": {},
   "outputs": [],
   "source": [
    "import pandas as pd\n",
    "from sklearn.model_selection import train_test_split\n",
    "from sklearn import svm\n",
    "from sklearn import metrics\n",
    "from sklearn.preprocessing import LabelEncoder"
   ]
  },
  {
   "cell_type": "code",
   "execution_count": 2,
   "id": "2b0166b4-d1a7-45fe-bcad-d588e230b2e3",
   "metadata": {},
   "outputs": [
    {
     "name": "stdout",
     "output_type": "stream",
     "text": [
      "Confusion Matrix:\n",
      " [[ 6 15]\n",
      " [ 0 52]]\n",
      "\n",
      "Classification Report:\n",
      "               precision    recall  f1-score   support\n",
      "\n",
      "           0       1.00      0.29      0.44        21\n",
      "           1       0.78      1.00      0.87        52\n",
      "\n",
      "    accuracy                           0.79        73\n",
      "   macro avg       0.89      0.64      0.66        73\n",
      "weighted avg       0.84      0.79      0.75        73\n",
      "\n"
     ]
    }
   ],
   "source": [
    "# Import necessary libraries\n",
    "import pandas as pd\n",
    "import numpy as np\n",
    "from sklearn.model_selection import train_test_split\n",
    "from sklearn import svm\n",
    "from sklearn.metrics import confusion_matrix, classification_report\n",
    "\n",
    "# Load the data\n",
    "data = pd.read_csv(' ')\n",
    "\n",
    "# Select required parameters and target variable\n",
    "X = data[['Gender', 'Subluxation_percent', 'Femoral_neck_angle', 'Lateral_center_edge_angle', 'extrusion_index']]\n",
    "y = data['Cluster']\n",
    "\n",
    "# Split the data into training and testing sets with a 80/20 split\n",
    "X_train, X_test, y_train, y_test = train_test_split(X, y, test_size=0.2, random_state=42)\n",
    "\n",
    "# Create the SVM model\n",
    "model = svm.SVC(probability=True)\n",
    "\n",
    "# Train the model\n",
    "model.fit(X_train, y_train)\n",
    "\n",
    "# Make predictions on the testing set\n",
    "y_pred = model.predict(X_test)\n",
    "\n",
    "# Print the confusion matrix\n",
    "print(\"Confusion Matrix:\\n\", confusion_matrix(y_test, y_pred))\n",
    "\n",
    "# Print the classification report\n",
    "print(\"\\nClassification Report:\\n\", classification_report(y_test, y_pred))\n",
    "\n"
   ]
  },
  {
   "cell_type": "code",
   "execution_count": 3,
   "id": "6804d111-2b7d-4ac2-b95f-c15769888b62",
   "metadata": {},
   "outputs": [
    {
     "data": {
      "text/plain": [
       "(0.7945205479452054, 1.0, 0.8739495798319328)"
      ]
     },
     "execution_count": 3,
     "metadata": {},
     "output_type": "execute_result"
    }
   ],
   "source": [
    "from sklearn.metrics import accuracy_score, recall_score, f1_score\n",
    "\n",
    "# Calculate Accuracy, Recall and F1 Score\n",
    "accuracy = accuracy_score(y_test, y_pred)\n",
    "recall = recall_score(y_test, y_pred)\n",
    "f1 = f1_score(y_test, y_pred)\n",
    "\n",
    "accuracy, recall, f1"
   ]
  },
  {
   "cell_type": "code",
   "execution_count": 4,
   "id": "e8fb47c5-5c1a-43b6-90e1-d9077a64fef3",
   "metadata": {},
   "outputs": [
    {
     "name": "stdout",
     "output_type": "stream",
     "text": [
      "Accuracy: 0.79\n",
      "Precision: 0.78\n",
      "Recall: 1.00\n",
      "F1 Score: 0.87\n",
      "Misclassification Rate: 0.21\n"
     ]
    }
   ],
   "source": [
    "from sklearn.metrics import precision_score, recall_score, f1_score, roc_auc_score, confusion_matrix\n",
    "from sklearn.metrics import accuracy_score\n",
    "\n",
    "# Accuracy\n",
    "accuracy = accuracy_score(y_test, y_pred)\n",
    "print(f'Accuracy: {accuracy:.2f}')\n",
    "\n",
    "# Precision\n",
    "precision = precision_score(y_test, y_pred)\n",
    "print(f'Precision: {precision:.2f}')\n",
    "\n",
    "# Recall\n",
    "recall = recall_score(y_test, y_pred)\n",
    "print(f'Recall: {recall:.2f}')\n",
    "\n",
    "# F1 Score\n",
    "f1 = f1_score(y_test, y_pred)\n",
    "print(f'F1 Score: {f1:.2f}')\n",
    "\n",
    "# Misclassification Rate\n",
    "misclassification_rate = 1 - accuracy\n",
    "print(f'Misclassification Rate: {misclassification_rate:.2f}')\n",
    "\n",
    "\n",
    "\n"
   ]
  },
  {
   "cell_type": "code",
   "execution_count": 5,
   "id": "a71c7668-f1be-47a8-ac4c-186eb6b70029",
   "metadata": {},
   "outputs": [],
   "source": [
    "# Make new csv file contating ground truth and predicted cluster for visualiztion\n",
    "# Make predictions on the training set and testing set\n",
    "y_train_pred = model.predict(X_train)\n",
    "y_test_pred = model.predict(X_test)"
   ]
  },
  {
   "cell_type": "code",
   "execution_count": 6,
   "id": "ffd5fbb0-be07-4735-a17f-2a1820c7262d",
   "metadata": {},
   "outputs": [],
   "source": [
    "# Add the predictions to the training and testing sets\n",
    "X_train = X_train.copy()\n",
    "X_test = X_test.copy()\n",
    "X_train['Predicted_Cluster'] = y_train_pred\n",
    "X_test['Predicted_Cluster'] = y_test_pred"
   ]
  },
  {
   "cell_type": "code",
   "execution_count": 7,
   "id": "19b4f3df-25d3-4973-9511-f742eeaee72d",
   "metadata": {},
   "outputs": [],
   "source": [
    "# Create a new column to indicate whether each instance is in the training set or the testing set\n",
    "X_train['Set'] = 'Train'\n",
    "X_test['Set'] = 'Test'"
   ]
  },
  {
   "cell_type": "code",
   "execution_count": 8,
   "id": "a2139ee5-bc93-460f-872b-73a77b2346a4",
   "metadata": {},
   "outputs": [],
   "source": [
    "# Merge the original data with the combined data\n",
    "merged_data = pd.merge(data, pd.concat([X_train, X_test])[['Predicted_Cluster', 'Set']], left_index=True, right_index=True)\n"
   ]
  },
  {
   "cell_type": "code",
   "execution_count": 10,
   "id": "e6b29ce5-fd92-42a6-b2ca-33a90641c0b9",
   "metadata": {},
   "outputs": [],
   "source": [
    "# Export the merged data to a CSV file\n",
    "merged_data.to_csv('', index=False)\n"
   ]
  },
  {
   "cell_type": "code",
   "execution_count": 11,
   "id": "404f658a-e14f-4366-8de0-92d9186d7276",
   "metadata": {},
   "outputs": [],
   "source": [
    "# Compute probabilities\n",
    "y_test_prob = model.predict_proba(X_test.drop(columns=['Predicted_Cluster', 'Set']))"
   ]
  },
  {
   "cell_type": "code",
   "execution_count": 12,
   "id": "0272f3c1-46e9-4c7c-b835-c0c21ae953b5",
   "metadata": {},
   "outputs": [
    {
     "data": {
      "image/png": "[encoded data removed]",
      "text/plain": [
       "<Figure size 640x480 with 1 Axes>"
      ]
     },
     "metadata": {},
     "output_type": "display_data"
    },
    {
     "data": {
      "image/png": "[encoded data removed]",
      "text/plain": [
       "<Figure size 640x480 with 1 Axes>"
      ]
     },
     "metadata": {},
     "output_type": "display_data"
    }
   ],
   "source": [
    "# Import necessary libraries\n",
    "import pandas as pd\n",
    "from sklearn.model_selection import train_test_split\n",
    "from sklearn import svm\n",
    "from sklearn.metrics import confusion_matrix, classification_report, roc_curve, auc, RocCurveDisplay, precision_recall_curve, PrecisionRecallDisplay\n",
    "import matplotlib.pyplot as plt\n",
    "# Calculate ROC curve\n",
    "fpr, tpr, _ = roc_curve(y_test, y_test_prob[:, 1])\n",
    "roc_auc = auc(fpr, tpr)\n",
    "\n",
    "# Calculate Precision-Recall curve\n",
    "precision, recall, _ = precision_recall_curve(y_test, y_test_prob[:, 1])\n",
    "\n",
    "# Plot ROC curve\n",
    "roc_display = RocCurveDisplay(fpr=fpr, tpr=tpr, roc_auc=roc_auc).plot()\n",
    "\n",
    "# Plot Precision-Recall curve\n",
    "pr_display = PrecisionRecallDisplay(precision=precision, recall=recall).plot()\n",
    "\n",
    "plt.show()"
   ]
  },
  {
   "cell_type": "code",
   "execution_count": 13,
   "id": "14e0020b-eff8-43ac-b71f-6725b949ce42",
   "metadata": {},
   "outputs": [
    {
     "name": "stdout",
     "output_type": "stream",
     "text": [
      "\n",
      "New Data Prediction: [1]\n"
     ]
    },
    {
     "name": "stderr",
     "output_type": "stream",
     "text": [
      "C:\\Users\\36819\\AppData\\Local\\Programs\\Python\\Python311\\Lib\\site-packages\\sklearn\\base.py:464: UserWarning: X does not have valid feature names, but SVC was fitted with feature names\n",
      "  warnings.warn(\n"
     ]
    }
   ],
   "source": [
    "# Define new data\n",
    "new_data = np.array([[1, 0.3, 135, 15, 0.4]])\n",
    "\n",
    "# Predict the cluster for the new data\n",
    "new_pred = model.predict(new_data)\n",
    "print(\"\\nNew Data Prediction:\", new_pred)"
   ]
  },
  {
   "cell_type": "code",
   "execution_count": 14,
   "id": "2ddf2ed0-bcfb-469b-a8fd-636672f823d4",
   "metadata": {},
   "outputs": [],
   "source": [
    "#Load external data\n",
    "new_data = pd.read_csv('C:/Work/AI_Sports_Medicine/Hip/DDH/Cluster/External validation/External_validation_data_withgroundtruth_Cluster.csv')"
   ]
  },
  {
   "cell_type": "code",
   "execution_count": 15,
   "id": "974e985c-6431-4a88-8f27-fc1cc9ba4cb7",
   "metadata": {},
   "outputs": [],
   "source": [
    "#Select features used for prediction\n",
    "new_X = new_data[['Gender', 'Subluxation_percent', 'Femoral_neck_angle', 'Lateral_center_edge_angle', 'extrusion_index']]"
   ]
  },
  {
   "cell_type": "code",
   "execution_count": 16,
   "id": "a131b3c8-0945-4c9f-88fd-6d2a1a9e5414",
   "metadata": {},
   "outputs": [],
   "source": [
    "new_pred = model.predict(new_X)"
   ]
  },
  {
   "cell_type": "code",
   "execution_count": 17,
   "id": "61d31392-07fc-4d99-8ca2-e5b5ba782c1c",
   "metadata": {},
   "outputs": [],
   "source": [
    "# Add the prediction results to the DataFrame\n",
    "new_data['Predicted_Cluster'] = new_pred\n",
    "\n",
    "# Export the DataFrame to a new CSV file\n",
    "new_data.to_csv('C:/Work/AI_Sports_Medicine/Hip/DDH/Cluster/Prediction_SVM_Xrayparameters/external_validation_predictions.csv', index=False)"
   ]
  },
  {
   "cell_type": "code",
   "execution_count": 22,
   "id": "469803dc-dcbb-44e2-9a4b-7ff7b0265783",
   "metadata": {},
   "outputs": [
    {
     "name": "stdout",
     "output_type": "stream",
     "text": [
      "Accuracy: 0.79\n",
      "Precision: 0.78\n",
      "Recall: 1.00\n",
      "F1 Score: 0.87\n",
      "Misclassification Rate: 0.21\n"
     ]
    }
   ],
   "source": [
    "from sklearn.metrics import precision_score, recall_score, f1_score, roc_auc_score, confusion_matrix\n",
    "from sklearn.metrics import accuracy_score\n",
    "\n",
    "# Accuracy\n",
    "accuracy = accuracy_score(y_test, y_pred)\n",
    "print(f'Accuracy: {accuracy:.2f}')\n",
    "\n",
    "# Precision\n",
    "precision = precision_score(y_test, y_pred)\n",
    "print(f'Precision: {precision:.2f}')\n",
    "\n",
    "# Recall\n",
    "recall = recall_score(y_test, y_pred)\n",
    "print(f'Recall: {recall:.2f}')\n",
    "\n",
    "# F1 Score\n",
    "f1 = f1_score(y_test, y_pred)\n",
    "print(f'F1 Score: {f1:.2f}')\n",
    "\n",
    "# Misclassification Rate\n",
    "misclassification_rate = 1 - accuracy\n",
    "print(f'Misclassification Rate: {misclassification_rate:.2f}')"
   ]
  }
 ],
 "metadata": {
  "kernelspec": {
   "display_name": "Python 3 (ipykernel)",
   "language": "python",
   "name": "python3"
  },
  "language_info": {
   "codemirror_mode": {
    "name": "ipython",
    "version": 3
   },
   "file_extension": ".py",
   "mimetype": "text/x-python",
   "name": "python",
   "nbconvert_exporter": "python",
   "pygments_lexer": "ipython3",
   "version": "3.11.5"
  }
 },
 "nbformat": 4,
 "nbformat_minor": 5
}
